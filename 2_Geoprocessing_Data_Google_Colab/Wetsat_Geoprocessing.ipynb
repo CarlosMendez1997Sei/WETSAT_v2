{
  "nbformat": 4,
  "nbformat_minor": 0,
  "metadata": {
    "colab": {
      "provenance": []
    },
    "kernelspec": {
      "name": "python3",
      "display_name": "Python 3"
    },
    "language_info": {
      "name": "python"
    }
  },
  "cells": [
    {
      "cell_type": "markdown",
      "source": [
        "# Geoprocessing Databases in Google Colab"
      ],
      "metadata": {
        "id": "2ZbneqAeST4Q"
      }
    },
    {
      "cell_type": "code",
      "source": [
        "import os\n",
        "import requests\n",
        "\n",
        "# Create a directory to store the downloaded TIFF files\n",
        "os.makedirs(\"raster_data\", exist_ok=True)\n",
        "\n",
        "# List of .tiff filenames in your GitHub repo\n",
        "tiff_files = [\n",
        "\"gamma_dB_20240101_VH_sample.tif\",\n",
        "\"gamma_dB_20240113_VH_sample.tif\",\n",
        "\"gamma_dB_20240125_VH_sample.tif\",\n",
        "\"gamma_dB_20240206_VH_sample.tif\",\n",
        "\"gamma_dB_20240218_VH_sample.tif\",\n",
        "\"gamma_dB_20240301_VH_sample.tif\",\n",
        "\"gamma_dB_20240313_VH_sample.tif\",\n",
        "\"gamma_dB_20240325_VH_sample.tif\",\n",
        "\"gamma_dB_20240406_VH_sample.tif\",\n",
        "\"gamma_dB_20240418_VH_sample.tif\",\n",
        "\"gamma_dB_20240430_VH_sample.tif\",\n",
        "\"gamma_dB_20240512_VH_sample.tif\",\n",
        "\"gamma_dB_20240524_VH_sample.tif\",\n",
        "\"gamma_dB_20240605_VH_sample.tif\",\n",
        "\"gamma_dB_20240617_VH_sample.tif\",\n",
        "\"gamma_dB_20240629_VH_sample.tif\",\n",
        "\"gamma_dB_20240711_VH_sample.tif\",\n",
        "\"gamma_dB_20240723_VH_sample.tif\",\n",
        "\"gamma_dB_20240804_VH_sample.tif\",\n",
        "\"gamma_dB_20240816_VH_sample.tif\",\n",
        "\"gamma_dB_20240828_VH_sample.tif\",\n",
        "\"gamma_dB_20240909_VH_sample.tif\",\n",
        "\"gamma_dB_20240921_VH_sample.tif\",\n",
        "\"gamma_dB_20241003_VH_sample.tif\",\n",
        "\"gamma_dB_20241015_VH_sample.tif\",\n",
        "\"gamma_dB_20241027_VH_sample.tif\",\n",
        "\"gamma_dB_20241108_VH_sample.tif\",\n",
        "\"gamma_dB_20241214_VH_sample.tif\",\n",
        "\"gamma_dB_20241226_VH_sample.tif\"\n",
        "]\n",
        "\n",
        "# Base URL of your GitHub repo's raw content\n",
        "base_url = \"https://github.com/sei-latam/WETSAT_v2/tree/main/0_Original_Files/aoi1/aoi1/gamma_dB/VH/\"\n",
        "\n",
        "# Loop to download each file\n",
        "for filename in tiff_files:\n",
        "    url = base_url + filename\n",
        "    response = requests.get(url)\n",
        "    if response.status_code == 200:\n",
        "        with open(f\"raster_data/{filename}\", \"wb\") as f:\n",
        "            f.write(response.content)\n",
        "        print(f\"Downloaded: {filename}\")\n",
        "    else:\n",
        "        print(f\"Failed to download: {filename}\")\n"
      ],
      "metadata": {
        "id": "yOQtNfyqNTEp",
        "colab": {
          "base_uri": "https://localhost:8080/"
        },
        "outputId": "b7173542-4782-4c66-dae5-3b613303a136"
      },
      "execution_count": 1,
      "outputs": [
        {
          "output_type": "stream",
          "name": "stdout",
          "text": [
            "Downloaded: gamma_dB_20240101_VH_sample.tif\n",
            "Downloaded: gamma_dB_20240113_VH_sample.tif\n",
            "Downloaded: gamma_dB_20240125_VH_sample.tif\n",
            "Downloaded: gamma_dB_20240206_VH_sample.tif\n",
            "Downloaded: gamma_dB_20240218_VH_sample.tif\n",
            "Downloaded: gamma_dB_20240301_VH_sample.tif\n",
            "Downloaded: gamma_dB_20240313_VH_sample.tif\n",
            "Downloaded: gamma_dB_20240325_VH_sample.tif\n",
            "Downloaded: gamma_dB_20240406_VH_sample.tif\n",
            "Downloaded: gamma_dB_20240418_VH_sample.tif\n",
            "Downloaded: gamma_dB_20240430_VH_sample.tif\n",
            "Downloaded: gamma_dB_20240512_VH_sample.tif\n",
            "Downloaded: gamma_dB_20240524_VH_sample.tif\n",
            "Downloaded: gamma_dB_20240605_VH_sample.tif\n",
            "Downloaded: gamma_dB_20240617_VH_sample.tif\n",
            "Downloaded: gamma_dB_20240629_VH_sample.tif\n",
            "Downloaded: gamma_dB_20240711_VH_sample.tif\n",
            "Downloaded: gamma_dB_20240723_VH_sample.tif\n",
            "Downloaded: gamma_dB_20240804_VH_sample.tif\n",
            "Downloaded: gamma_dB_20240816_VH_sample.tif\n",
            "Downloaded: gamma_dB_20240828_VH_sample.tif\n",
            "Downloaded: gamma_dB_20240909_VH_sample.tif\n",
            "Downloaded: gamma_dB_20240921_VH_sample.tif\n",
            "Downloaded: gamma_dB_20241003_VH_sample.tif\n",
            "Downloaded: gamma_dB_20241015_VH_sample.tif\n",
            "Downloaded: gamma_dB_20241027_VH_sample.tif\n",
            "Downloaded: gamma_dB_20241108_VH_sample.tif\n",
            "Downloaded: gamma_dB_20241214_VH_sample.tif\n",
            "Downloaded: gamma_dB_20241226_VH_sample.tif\n"
          ]
        }
      ]
    },
    {
      "cell_type": "code",
      "source": [],
      "metadata": {
        "id": "U_VHW1t2NTIC"
      },
      "execution_count": null,
      "outputs": []
    },
    {
      "cell_type": "code",
      "source": [],
      "metadata": {
        "id": "FXn-mPhyNTKq"
      },
      "execution_count": null,
      "outputs": []
    },
    {
      "cell_type": "code",
      "source": [],
      "metadata": {
        "id": "v0RWNNWaNTMZ"
      },
      "execution_count": null,
      "outputs": []
    }
  ]
}